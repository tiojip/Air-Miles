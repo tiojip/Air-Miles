{
 "cells": [
  {
   "cell_type": "code",
   "execution_count": 1,
   "id": "89d6916f-bfa9-4e85-994f-c876163720a1",
   "metadata": {},
   "outputs": [
    {
     "name": "stdout",
     "output_type": "stream",
     "text": [
      "Requirement already satisfied: duckdb in c:\\users\\11348337\\appdata\\local\\anaconda3\\lib\\site-packages (1.2.0)\n",
      "Note: you may need to restart the kernel to use updated packages.\n"
     ]
    }
   ],
   "source": [
    "pip install duckdb"
   ]
  },
  {
   "cell_type": "code",
   "execution_count": 26,
   "id": "6710a966-2d6f-4140-9cbb-cfd9d1342989",
   "metadata": {},
   "outputs": [
    {
     "name": "stdout",
     "output_type": "stream",
     "text": [
      "Requirement already satisfied: ipywidgets in c:\\users\\11348337\\appdata\\local\\anaconda3\\lib\\site-packages (7.8.1)Note: you may need to restart the kernel to use updated packages.\n",
      "\n",
      "Requirement already satisfied: comm>=0.1.3 in c:\\users\\11348337\\appdata\\local\\anaconda3\\lib\\site-packages (from ipywidgets) (0.2.1)\n",
      "Requirement already satisfied: ipython-genutils~=0.2.0 in c:\\users\\11348337\\appdata\\local\\anaconda3\\lib\\site-packages (from ipywidgets) (0.2.0)\n",
      "Requirement already satisfied: traitlets>=4.3.1 in c:\\users\\11348337\\appdata\\local\\anaconda3\\lib\\site-packages (from ipywidgets) (5.14.3)\n",
      "Requirement already satisfied: widgetsnbextension~=3.6.6 in c:\\users\\11348337\\appdata\\local\\anaconda3\\lib\\site-packages (from ipywidgets) (3.6.6)\n",
      "Requirement already satisfied: ipython>=4.0.0 in c:\\users\\11348337\\appdata\\local\\anaconda3\\lib\\site-packages (from ipywidgets) (8.27.0)\n",
      "Requirement already satisfied: jupyterlab-widgets<3,>=1.0.0 in c:\\users\\11348337\\appdata\\local\\anaconda3\\lib\\site-packages (from ipywidgets) (1.0.0)\n",
      "Requirement already satisfied: decorator in c:\\users\\11348337\\appdata\\local\\anaconda3\\lib\\site-packages (from ipython>=4.0.0->ipywidgets) (5.1.1)\n",
      "Requirement already satisfied: jedi>=0.16 in c:\\users\\11348337\\appdata\\local\\anaconda3\\lib\\site-packages (from ipython>=4.0.0->ipywidgets) (0.19.1)\n",
      "Requirement already satisfied: matplotlib-inline in c:\\users\\11348337\\appdata\\local\\anaconda3\\lib\\site-packages (from ipython>=4.0.0->ipywidgets) (0.1.6)\n",
      "Requirement already satisfied: prompt-toolkit<3.1.0,>=3.0.41 in c:\\users\\11348337\\appdata\\local\\anaconda3\\lib\\site-packages (from ipython>=4.0.0->ipywidgets) (3.0.43)\n",
      "Requirement already satisfied: pygments>=2.4.0 in c:\\users\\11348337\\appdata\\local\\anaconda3\\lib\\site-packages (from ipython>=4.0.0->ipywidgets) (2.15.1)\n",
      "Requirement already satisfied: stack-data in c:\\users\\11348337\\appdata\\local\\anaconda3\\lib\\site-packages (from ipython>=4.0.0->ipywidgets) (0.2.0)\n",
      "Requirement already satisfied: colorama in c:\\users\\11348337\\appdata\\local\\anaconda3\\lib\\site-packages (from ipython>=4.0.0->ipywidgets) (0.4.6)\n",
      "Requirement already satisfied: notebook>=4.4.1 in c:\\users\\11348337\\appdata\\local\\anaconda3\\lib\\site-packages (from widgetsnbextension~=3.6.6->ipywidgets) (7.2.2)\n",
      "Requirement already satisfied: parso<0.9.0,>=0.8.3 in c:\\users\\11348337\\appdata\\local\\anaconda3\\lib\\site-packages (from jedi>=0.16->ipython>=4.0.0->ipywidgets) (0.8.3)\n",
      "Requirement already satisfied: jupyter-server<3,>=2.4.0 in c:\\users\\11348337\\appdata\\local\\anaconda3\\lib\\site-packages (from notebook>=4.4.1->widgetsnbextension~=3.6.6->ipywidgets) (2.14.1)\n",
      "Requirement already satisfied: jupyterlab-server<3,>=2.27.1 in c:\\users\\11348337\\appdata\\local\\anaconda3\\lib\\site-packages (from notebook>=4.4.1->widgetsnbextension~=3.6.6->ipywidgets) (2.27.3)\n",
      "Requirement already satisfied: jupyterlab<4.3,>=4.2.0 in c:\\users\\11348337\\appdata\\local\\anaconda3\\lib\\site-packages (from notebook>=4.4.1->widgetsnbextension~=3.6.6->ipywidgets) (4.2.5)\n",
      "Requirement already satisfied: notebook-shim<0.3,>=0.2 in c:\\users\\11348337\\appdata\\local\\anaconda3\\lib\\site-packages (from notebook>=4.4.1->widgetsnbextension~=3.6.6->ipywidgets) (0.2.3)\n",
      "Requirement already satisfied: tornado>=6.2.0 in c:\\users\\11348337\\appdata\\local\\anaconda3\\lib\\site-packages (from notebook>=4.4.1->widgetsnbextension~=3.6.6->ipywidgets) (6.4.1)\n",
      "Requirement already satisfied: wcwidth in c:\\users\\11348337\\appdata\\local\\anaconda3\\lib\\site-packages (from prompt-toolkit<3.1.0,>=3.0.41->ipython>=4.0.0->ipywidgets) (0.2.5)\n",
      "Requirement already satisfied: executing in c:\\users\\11348337\\appdata\\local\\anaconda3\\lib\\site-packages (from stack-data->ipython>=4.0.0->ipywidgets) (0.8.3)\n",
      "Requirement already satisfied: asttokens in c:\\users\\11348337\\appdata\\local\\anaconda3\\lib\\site-packages (from stack-data->ipython>=4.0.0->ipywidgets) (2.0.5)\n",
      "Requirement already satisfied: pure-eval in c:\\users\\11348337\\appdata\\local\\anaconda3\\lib\\site-packages (from stack-data->ipython>=4.0.0->ipywidgets) (0.2.2)\n",
      "Requirement already satisfied: anyio>=3.1.0 in c:\\users\\11348337\\appdata\\local\\anaconda3\\lib\\site-packages (from jupyter-server<3,>=2.4.0->notebook>=4.4.1->widgetsnbextension~=3.6.6->ipywidgets) (4.2.0)\n",
      "Requirement already satisfied: argon2-cffi>=21.1 in c:\\users\\11348337\\appdata\\local\\anaconda3\\lib\\site-packages (from jupyter-server<3,>=2.4.0->notebook>=4.4.1->widgetsnbextension~=3.6.6->ipywidgets) (21.3.0)\n",
      "Requirement already satisfied: jinja2>=3.0.3 in c:\\users\\11348337\\appdata\\local\\anaconda3\\lib\\site-packages (from jupyter-server<3,>=2.4.0->notebook>=4.4.1->widgetsnbextension~=3.6.6->ipywidgets) (3.1.4)\n",
      "Requirement already satisfied: jupyter-client>=7.4.4 in c:\\users\\11348337\\appdata\\local\\anaconda3\\lib\\site-packages (from jupyter-server<3,>=2.4.0->notebook>=4.4.1->widgetsnbextension~=3.6.6->ipywidgets) (8.6.0)\n",
      "Requirement already satisfied: jupyter-core!=5.0.*,>=4.12 in c:\\users\\11348337\\appdata\\local\\anaconda3\\lib\\site-packages (from jupyter-server<3,>=2.4.0->notebook>=4.4.1->widgetsnbextension~=3.6.6->ipywidgets) (5.7.2)\n",
      "Requirement already satisfied: jupyter-events>=0.9.0 in c:\\users\\11348337\\appdata\\local\\anaconda3\\lib\\site-packages (from jupyter-server<3,>=2.4.0->notebook>=4.4.1->widgetsnbextension~=3.6.6->ipywidgets) (0.10.0)\n",
      "Requirement already satisfied: jupyter-server-terminals>=0.4.4 in c:\\users\\11348337\\appdata\\local\\anaconda3\\lib\\site-packages (from jupyter-server<3,>=2.4.0->notebook>=4.4.1->widgetsnbextension~=3.6.6->ipywidgets) (0.4.4)\n",
      "Requirement already satisfied: nbconvert>=6.4.4 in c:\\users\\11348337\\appdata\\local\\anaconda3\\lib\\site-packages (from jupyter-server<3,>=2.4.0->notebook>=4.4.1->widgetsnbextension~=3.6.6->ipywidgets) (7.16.4)\n",
      "Requirement already satisfied: nbformat>=5.3.0 in c:\\users\\11348337\\appdata\\local\\anaconda3\\lib\\site-packages (from jupyter-server<3,>=2.4.0->notebook>=4.4.1->widgetsnbextension~=3.6.6->ipywidgets) (5.10.4)\n",
      "Requirement already satisfied: overrides>=5.0 in c:\\users\\11348337\\appdata\\local\\anaconda3\\lib\\site-packages (from jupyter-server<3,>=2.4.0->notebook>=4.4.1->widgetsnbextension~=3.6.6->ipywidgets) (7.4.0)\n",
      "Requirement already satisfied: packaging>=22.0 in c:\\users\\11348337\\appdata\\local\\anaconda3\\lib\\site-packages (from jupyter-server<3,>=2.4.0->notebook>=4.4.1->widgetsnbextension~=3.6.6->ipywidgets) (24.1)\n",
      "Requirement already satisfied: prometheus-client>=0.9 in c:\\users\\11348337\\appdata\\local\\anaconda3\\lib\\site-packages (from jupyter-server<3,>=2.4.0->notebook>=4.4.1->widgetsnbextension~=3.6.6->ipywidgets) (0.14.1)\n",
      "Requirement already satisfied: pywinpty>=2.0.1 in c:\\users\\11348337\\appdata\\local\\anaconda3\\lib\\site-packages (from jupyter-server<3,>=2.4.0->notebook>=4.4.1->widgetsnbextension~=3.6.6->ipywidgets) (2.0.10)\n",
      "Requirement already satisfied: pyzmq>=24 in c:\\users\\11348337\\appdata\\local\\anaconda3\\lib\\site-packages (from jupyter-server<3,>=2.4.0->notebook>=4.4.1->widgetsnbextension~=3.6.6->ipywidgets) (25.1.2)\n",
      "Requirement already satisfied: send2trash>=1.8.2 in c:\\users\\11348337\\appdata\\local\\anaconda3\\lib\\site-packages (from jupyter-server<3,>=2.4.0->notebook>=4.4.1->widgetsnbextension~=3.6.6->ipywidgets) (1.8.2)\n",
      "Requirement already satisfied: terminado>=0.8.3 in c:\\users\\11348337\\appdata\\local\\anaconda3\\lib\\site-packages (from jupyter-server<3,>=2.4.0->notebook>=4.4.1->widgetsnbextension~=3.6.6->ipywidgets) (0.17.1)\n",
      "Requirement already satisfied: websocket-client>=1.7 in c:\\users\\11348337\\appdata\\local\\anaconda3\\lib\\site-packages (from jupyter-server<3,>=2.4.0->notebook>=4.4.1->widgetsnbextension~=3.6.6->ipywidgets) (1.8.0)\n",
      "Requirement already satisfied: async-lru>=1.0.0 in c:\\users\\11348337\\appdata\\local\\anaconda3\\lib\\site-packages (from jupyterlab<4.3,>=4.2.0->notebook>=4.4.1->widgetsnbextension~=3.6.6->ipywidgets) (2.0.4)\n",
      "Requirement already satisfied: httpx>=0.25.0 in c:\\users\\11348337\\appdata\\local\\anaconda3\\lib\\site-packages (from jupyterlab<4.3,>=4.2.0->notebook>=4.4.1->widgetsnbextension~=3.6.6->ipywidgets) (0.27.0)\n",
      "Requirement already satisfied: ipykernel>=6.5.0 in c:\\users\\11348337\\appdata\\local\\anaconda3\\lib\\site-packages (from jupyterlab<4.3,>=4.2.0->notebook>=4.4.1->widgetsnbextension~=3.6.6->ipywidgets) (6.28.0)\n",
      "Requirement already satisfied: jupyter-lsp>=2.0.0 in c:\\users\\11348337\\appdata\\local\\anaconda3\\lib\\site-packages (from jupyterlab<4.3,>=4.2.0->notebook>=4.4.1->widgetsnbextension~=3.6.6->ipywidgets) (2.2.0)\n",
      "Requirement already satisfied: setuptools>=40.1.0 in c:\\users\\11348337\\appdata\\local\\anaconda3\\lib\\site-packages (from jupyterlab<4.3,>=4.2.0->notebook>=4.4.1->widgetsnbextension~=3.6.6->ipywidgets) (75.1.0)\n",
      "Requirement already satisfied: babel>=2.10 in c:\\users\\11348337\\appdata\\local\\anaconda3\\lib\\site-packages (from jupyterlab-server<3,>=2.27.1->notebook>=4.4.1->widgetsnbextension~=3.6.6->ipywidgets) (2.11.0)\n",
      "Requirement already satisfied: json5>=0.9.0 in c:\\users\\11348337\\appdata\\local\\anaconda3\\lib\\site-packages (from jupyterlab-server<3,>=2.27.1->notebook>=4.4.1->widgetsnbextension~=3.6.6->ipywidgets) (0.9.6)\n",
      "Requirement already satisfied: jsonschema>=4.18.0 in c:\\users\\11348337\\appdata\\local\\anaconda3\\lib\\site-packages (from jupyterlab-server<3,>=2.27.1->notebook>=4.4.1->widgetsnbextension~=3.6.6->ipywidgets) (4.23.0)\n",
      "Requirement already satisfied: requests>=2.31 in c:\\users\\11348337\\appdata\\local\\anaconda3\\lib\\site-packages (from jupyterlab-server<3,>=2.27.1->notebook>=4.4.1->widgetsnbextension~=3.6.6->ipywidgets) (2.32.3)\n",
      "Requirement already satisfied: six in c:\\users\\11348337\\appdata\\local\\anaconda3\\lib\\site-packages (from asttokens->stack-data->ipython>=4.0.0->ipywidgets) (1.16.0)\n",
      "Requirement already satisfied: idna>=2.8 in c:\\users\\11348337\\appdata\\local\\anaconda3\\lib\\site-packages (from anyio>=3.1.0->jupyter-server<3,>=2.4.0->notebook>=4.4.1->widgetsnbextension~=3.6.6->ipywidgets) (3.7)\n",
      "Requirement already satisfied: sniffio>=1.1 in c:\\users\\11348337\\appdata\\local\\anaconda3\\lib\\site-packages (from anyio>=3.1.0->jupyter-server<3,>=2.4.0->notebook>=4.4.1->widgetsnbextension~=3.6.6->ipywidgets) (1.3.0)\n",
      "Requirement already satisfied: argon2-cffi-bindings in c:\\users\\11348337\\appdata\\local\\anaconda3\\lib\\site-packages (from argon2-cffi>=21.1->jupyter-server<3,>=2.4.0->notebook>=4.4.1->widgetsnbextension~=3.6.6->ipywidgets) (21.2.0)\n",
      "Requirement already satisfied: pytz>=2015.7 in c:\\users\\11348337\\appdata\\local\\anaconda3\\lib\\site-packages (from babel>=2.10->jupyterlab-server<3,>=2.27.1->notebook>=4.4.1->widgetsnbextension~=3.6.6->ipywidgets) (2024.1)\n",
      "Requirement already satisfied: certifi in c:\\users\\11348337\\appdata\\local\\anaconda3\\lib\\site-packages (from httpx>=0.25.0->jupyterlab<4.3,>=4.2.0->notebook>=4.4.1->widgetsnbextension~=3.6.6->ipywidgets) (2025.1.31)\n",
      "Requirement already satisfied: httpcore==1.* in c:\\users\\11348337\\appdata\\local\\anaconda3\\lib\\site-packages (from httpx>=0.25.0->jupyterlab<4.3,>=4.2.0->notebook>=4.4.1->widgetsnbextension~=3.6.6->ipywidgets) (1.0.2)\n",
      "Requirement already satisfied: h11<0.15,>=0.13 in c:\\users\\11348337\\appdata\\local\\anaconda3\\lib\\site-packages (from httpcore==1.*->httpx>=0.25.0->jupyterlab<4.3,>=4.2.0->notebook>=4.4.1->widgetsnbextension~=3.6.6->ipywidgets) (0.14.0)\n",
      "Requirement already satisfied: debugpy>=1.6.5 in c:\\users\\11348337\\appdata\\local\\anaconda3\\lib\\site-packages (from ipykernel>=6.5.0->jupyterlab<4.3,>=4.2.0->notebook>=4.4.1->widgetsnbextension~=3.6.6->ipywidgets) (1.6.7)\n",
      "Requirement already satisfied: nest-asyncio in c:\\users\\11348337\\appdata\\local\\anaconda3\\lib\\site-packages (from ipykernel>=6.5.0->jupyterlab<4.3,>=4.2.0->notebook>=4.4.1->widgetsnbextension~=3.6.6->ipywidgets) (1.6.0)\n",
      "Requirement already satisfied: psutil in c:\\users\\11348337\\appdata\\local\\anaconda3\\lib\\site-packages (from ipykernel>=6.5.0->jupyterlab<4.3,>=4.2.0->notebook>=4.4.1->widgetsnbextension~=3.6.6->ipywidgets) (5.9.0)\n",
      "Requirement already satisfied: MarkupSafe>=2.0 in c:\\users\\11348337\\appdata\\local\\anaconda3\\lib\\site-packages (from jinja2>=3.0.3->jupyter-server<3,>=2.4.0->notebook>=4.4.1->widgetsnbextension~=3.6.6->ipywidgets) (2.1.3)\n",
      "Requirement already satisfied: attrs>=22.2.0 in c:\\users\\11348337\\appdata\\local\\anaconda3\\lib\\site-packages (from jsonschema>=4.18.0->jupyterlab-server<3,>=2.27.1->notebook>=4.4.1->widgetsnbextension~=3.6.6->ipywidgets) (23.1.0)\n",
      "Requirement already satisfied: jsonschema-specifications>=2023.03.6 in c:\\users\\11348337\\appdata\\local\\anaconda3\\lib\\site-packages (from jsonschema>=4.18.0->jupyterlab-server<3,>=2.27.1->notebook>=4.4.1->widgetsnbextension~=3.6.6->ipywidgets) (2023.7.1)\n",
      "Requirement already satisfied: referencing>=0.28.4 in c:\\users\\11348337\\appdata\\local\\anaconda3\\lib\\site-packages (from jsonschema>=4.18.0->jupyterlab-server<3,>=2.27.1->notebook>=4.4.1->widgetsnbextension~=3.6.6->ipywidgets) (0.30.2)\n",
      "Requirement already satisfied: rpds-py>=0.7.1 in c:\\users\\11348337\\appdata\\local\\anaconda3\\lib\\site-packages (from jsonschema>=4.18.0->jupyterlab-server<3,>=2.27.1->notebook>=4.4.1->widgetsnbextension~=3.6.6->ipywidgets) (0.10.6)\n",
      "Requirement already satisfied: python-dateutil>=2.8.2 in c:\\users\\11348337\\appdata\\local\\anaconda3\\lib\\site-packages (from jupyter-client>=7.4.4->jupyter-server<3,>=2.4.0->notebook>=4.4.1->widgetsnbextension~=3.6.6->ipywidgets) (2.9.0.post0)\n",
      "Requirement already satisfied: platformdirs>=2.5 in c:\\users\\11348337\\appdata\\local\\anaconda3\\lib\\site-packages (from jupyter-core!=5.0.*,>=4.12->jupyter-server<3,>=2.4.0->notebook>=4.4.1->widgetsnbextension~=3.6.6->ipywidgets) (3.10.0)\n",
      "Requirement already satisfied: pywin32>=300 in c:\\users\\11348337\\appdata\\local\\anaconda3\\lib\\site-packages (from jupyter-core!=5.0.*,>=4.12->jupyter-server<3,>=2.4.0->notebook>=4.4.1->widgetsnbextension~=3.6.6->ipywidgets) (305.1)\n",
      "Requirement already satisfied: python-json-logger>=2.0.4 in c:\\users\\11348337\\appdata\\local\\anaconda3\\lib\\site-packages (from jupyter-events>=0.9.0->jupyter-server<3,>=2.4.0->notebook>=4.4.1->widgetsnbextension~=3.6.6->ipywidgets) (2.0.7)\n",
      "Requirement already satisfied: pyyaml>=5.3 in c:\\users\\11348337\\appdata\\local\\anaconda3\\lib\\site-packages (from jupyter-events>=0.9.0->jupyter-server<3,>=2.4.0->notebook>=4.4.1->widgetsnbextension~=3.6.6->ipywidgets) (6.0.1)\n",
      "Requirement already satisfied: rfc3339-validator in c:\\users\\11348337\\appdata\\local\\anaconda3\\lib\\site-packages (from jupyter-events>=0.9.0->jupyter-server<3,>=2.4.0->notebook>=4.4.1->widgetsnbextension~=3.6.6->ipywidgets) (0.1.4)\n",
      "Requirement already satisfied: rfc3986-validator>=0.1.1 in c:\\users\\11348337\\appdata\\local\\anaconda3\\lib\\site-packages (from jupyter-events>=0.9.0->jupyter-server<3,>=2.4.0->notebook>=4.4.1->widgetsnbextension~=3.6.6->ipywidgets) (0.1.1)\n",
      "Requirement already satisfied: beautifulsoup4 in c:\\users\\11348337\\appdata\\local\\anaconda3\\lib\\site-packages (from nbconvert>=6.4.4->jupyter-server<3,>=2.4.0->notebook>=4.4.1->widgetsnbextension~=3.6.6->ipywidgets) (4.12.3)\n",
      "Requirement already satisfied: bleach!=5.0.0 in c:\\users\\11348337\\appdata\\local\\anaconda3\\lib\\site-packages (from nbconvert>=6.4.4->jupyter-server<3,>=2.4.0->notebook>=4.4.1->widgetsnbextension~=3.6.6->ipywidgets) (4.1.0)\n",
      "Requirement already satisfied: defusedxml in c:\\users\\11348337\\appdata\\local\\anaconda3\\lib\\site-packages (from nbconvert>=6.4.4->jupyter-server<3,>=2.4.0->notebook>=4.4.1->widgetsnbextension~=3.6.6->ipywidgets) (0.7.1)\n",
      "Requirement already satisfied: jupyterlab-pygments in c:\\users\\11348337\\appdata\\local\\anaconda3\\lib\\site-packages (from nbconvert>=6.4.4->jupyter-server<3,>=2.4.0->notebook>=4.4.1->widgetsnbextension~=3.6.6->ipywidgets) (0.1.2)\n",
      "Requirement already satisfied: mistune<4,>=2.0.3 in c:\\users\\11348337\\appdata\\local\\anaconda3\\lib\\site-packages (from nbconvert>=6.4.4->jupyter-server<3,>=2.4.0->notebook>=4.4.1->widgetsnbextension~=3.6.6->ipywidgets) (2.0.4)\n",
      "Requirement already satisfied: nbclient>=0.5.0 in c:\\users\\11348337\\appdata\\local\\anaconda3\\lib\\site-packages (from nbconvert>=6.4.4->jupyter-server<3,>=2.4.0->notebook>=4.4.1->widgetsnbextension~=3.6.6->ipywidgets) (0.8.0)\n",
      "Requirement already satisfied: pandocfilters>=1.4.1 in c:\\users\\11348337\\appdata\\local\\anaconda3\\lib\\site-packages (from nbconvert>=6.4.4->jupyter-server<3,>=2.4.0->notebook>=4.4.1->widgetsnbextension~=3.6.6->ipywidgets) (1.5.0)\n",
      "Requirement already satisfied: tinycss2 in c:\\users\\11348337\\appdata\\local\\anaconda3\\lib\\site-packages (from nbconvert>=6.4.4->jupyter-server<3,>=2.4.0->notebook>=4.4.1->widgetsnbextension~=3.6.6->ipywidgets) (1.2.1)\n",
      "Requirement already satisfied: fastjsonschema>=2.15 in c:\\users\\11348337\\appdata\\local\\anaconda3\\lib\\site-packages (from nbformat>=5.3.0->jupyter-server<3,>=2.4.0->notebook>=4.4.1->widgetsnbextension~=3.6.6->ipywidgets) (2.16.2)\n",
      "Requirement already satisfied: charset-normalizer<4,>=2 in c:\\users\\11348337\\appdata\\local\\anaconda3\\lib\\site-packages (from requests>=2.31->jupyterlab-server<3,>=2.27.1->notebook>=4.4.1->widgetsnbextension~=3.6.6->ipywidgets) (3.3.2)\n",
      "Requirement already satisfied: urllib3<3,>=1.21.1 in c:\\users\\11348337\\appdata\\local\\anaconda3\\lib\\site-packages (from requests>=2.31->jupyterlab-server<3,>=2.27.1->notebook>=4.4.1->widgetsnbextension~=3.6.6->ipywidgets) (2.2.3)\n",
      "Requirement already satisfied: webencodings in c:\\users\\11348337\\appdata\\local\\anaconda3\\lib\\site-packages (from bleach!=5.0.0->nbconvert>=6.4.4->jupyter-server<3,>=2.4.0->notebook>=4.4.1->widgetsnbextension~=3.6.6->ipywidgets) (0.5.1)\n",
      "Requirement already satisfied: fqdn in c:\\users\\11348337\\appdata\\local\\anaconda3\\lib\\site-packages (from jsonschema[format-nongpl]>=4.18.0->jupyter-events>=0.9.0->jupyter-server<3,>=2.4.0->notebook>=4.4.1->widgetsnbextension~=3.6.6->ipywidgets) (1.5.1)\n",
      "Requirement already satisfied: isoduration in c:\\users\\11348337\\appdata\\local\\anaconda3\\lib\\site-packages (from jsonschema[format-nongpl]>=4.18.0->jupyter-events>=0.9.0->jupyter-server<3,>=2.4.0->notebook>=4.4.1->widgetsnbextension~=3.6.6->ipywidgets) (20.11.0)\n",
      "Requirement already satisfied: jsonpointer>1.13 in c:\\users\\11348337\\appdata\\local\\anaconda3\\lib\\site-packages (from jsonschema[format-nongpl]>=4.18.0->jupyter-events>=0.9.0->jupyter-server<3,>=2.4.0->notebook>=4.4.1->widgetsnbextension~=3.6.6->ipywidgets) (2.1)\n",
      "Requirement already satisfied: uri-template in c:\\users\\11348337\\appdata\\local\\anaconda3\\lib\\site-packages (from jsonschema[format-nongpl]>=4.18.0->jupyter-events>=0.9.0->jupyter-server<3,>=2.4.0->notebook>=4.4.1->widgetsnbextension~=3.6.6->ipywidgets) (1.3.0)\n",
      "Requirement already satisfied: webcolors>=24.6.0 in c:\\users\\11348337\\appdata\\local\\anaconda3\\lib\\site-packages (from jsonschema[format-nongpl]>=4.18.0->jupyter-events>=0.9.0->jupyter-server<3,>=2.4.0->notebook>=4.4.1->widgetsnbextension~=3.6.6->ipywidgets) (24.11.1)\n",
      "Requirement already satisfied: cffi>=1.0.1 in c:\\users\\11348337\\appdata\\local\\anaconda3\\lib\\site-packages (from argon2-cffi-bindings->argon2-cffi>=21.1->jupyter-server<3,>=2.4.0->notebook>=4.4.1->widgetsnbextension~=3.6.6->ipywidgets) (1.17.1)\n",
      "Requirement already satisfied: soupsieve>1.2 in c:\\users\\11348337\\appdata\\local\\anaconda3\\lib\\site-packages (from beautifulsoup4->nbconvert>=6.4.4->jupyter-server<3,>=2.4.0->notebook>=4.4.1->widgetsnbextension~=3.6.6->ipywidgets) (2.5)\n",
      "Requirement already satisfied: pycparser in c:\\users\\11348337\\appdata\\local\\anaconda3\\lib\\site-packages (from cffi>=1.0.1->argon2-cffi-bindings->argon2-cffi>=21.1->jupyter-server<3,>=2.4.0->notebook>=4.4.1->widgetsnbextension~=3.6.6->ipywidgets) (2.21)\n",
      "Requirement already satisfied: arrow>=0.15.0 in c:\\users\\11348337\\appdata\\local\\anaconda3\\lib\\site-packages (from isoduration->jsonschema[format-nongpl]>=4.18.0->jupyter-events>=0.9.0->jupyter-server<3,>=2.4.0->notebook>=4.4.1->widgetsnbextension~=3.6.6->ipywidgets) (1.2.3)\n"
     ]
    }
   ],
   "source": [
    "pip install ipywidgets"
   ]
  },
  {
   "cell_type": "code",
   "execution_count": 41,
   "id": "29d4dea3-50e4-4fae-a22e-9a054b383191",
   "metadata": {},
   "outputs": [
    {
     "ename": "SyntaxError",
     "evalue": "invalid syntax (629580002.py, line 1)",
     "output_type": "error",
     "traceback": [
      "\u001b[1;36m  Cell \u001b[1;32mIn[41], line 1\u001b[1;36m\u001b[0m\n\u001b[1;33m    jupyter nbextension enable --py widgetsnbextension\u001b[0m\n\u001b[1;37m            ^\u001b[0m\n\u001b[1;31mSyntaxError\u001b[0m\u001b[1;31m:\u001b[0m invalid syntax\n"
     ]
    }
   ],
   "source": [
    "jupyter nbextension enable --py widgetsnbextension\n"
   ]
  },
  {
   "cell_type": "code",
   "execution_count": 28,
   "id": "c0fa05c3-d4a0-4b3a-b315-32bc9b3c7958",
   "metadata": {},
   "outputs": [],
   "source": [
    "import os\n",
    "import pandas as pd\n",
    "import matplotlib.pyplot as plt\n",
    "import seaborn as sns\n",
    "import sqlite3\n",
    "import dask.dataframe as dd\n",
    "import duckdb"
   ]
  },
  {
   "cell_type": "code",
   "execution_count": 7,
   "id": "869c2b54-88b0-4f65-a347-cd74ece70f4a",
   "metadata": {},
   "outputs": [
    {
     "name": "stdout",
     "output_type": "stream",
     "text": [
      "Répertoire courant : C:\\Users\\11348337\\Desktop\\Airmiles\n",
      "Nouveau répertoire : C:\\Users\\11348337\\Desktop\\Airmiles\n",
      "MEMBERS_DIM:\n",
      "    MEMBER_ID   AGE GENDER LANGUAGE       TIER SMALL_BUSINESS_FLAG  \\\n",
      "0     1057621  80.0    NaN        E      Basic                   N   \n",
      "1     1218019  50.0      F        E  Next Best                   N   \n",
      "2    12125937  59.0      M        E      Basic                   N   \n",
      "3    16489011  56.0      F        E  Next Best                   N   \n",
      "4  1003721328  61.0    NaN        E      Basic                   N   \n",
      "\n",
      "   TENURE_MONTHS PROV  CASH_BACK_POINTS_BALANCE  REWARD_POINTS_BALANCE  \\\n",
      "0            381   ON                        81                     13   \n",
      "1            371   BC                         0                   3963   \n",
      "2            282   ON                        41                    928   \n",
      "3            243   ON                        35                   1677   \n",
      "4            165   AB                         0                   1570   \n",
      "\n",
      "  EMAILABLE_FLAG MAILABLE_FLAG  \n",
      "0              Y             Y  \n",
      "1              N             Y  \n",
      "2              N             Y  \n",
      "3              Y             Y  \n",
      "4              Y             Y  \n",
      "\n",
      "TRANSACTION_FACT:\n",
      "   MEMBER_ID    RETAILER  MONTH_ID  TRANSACTIONS  AMOUNT_SPENT  \\\n",
      "0      19683  CATEGORY_3    202311             2         19.95   \n",
      "1      19683  CATEGORY_3    202401             2          8.62   \n",
      "2      19683  CATEGORY_4    202202             1         72.65   \n",
      "3      19683  CATEGORY_2    202410             1          9.11   \n",
      "4      19683  CATEGORY_2    202401             1          8.63   \n",
      "\n",
      "   BASE_POINTS_EARNED  BONUS_POINTS_EARNED  REWARD_POINTS_EARNED  \\\n",
      "0                   2                    0                   0.0   \n",
      "1                   1                    9                   0.0   \n",
      "2                  14                    0                   0.0   \n",
      "3                   1                    0                   0.0   \n",
      "4                   1                    0                   0.0   \n",
      "\n",
      "   CASH_BACK_POINTS_EARNED  \n",
      "0                      2.0  \n",
      "1                     10.0  \n",
      "2                     14.0  \n",
      "3                      1.0  \n",
      "4                      1.0  \n",
      "\n",
      "REWARD_FACT:\n",
      "   MEMBER_ID  MONTH_ID REWARDS_CATEGORY  REDEMPTIONS  NUMBER_ITEMS_REDEEMED  \\\n",
      "0    3919097    202305        Cash_Back            1                      2   \n",
      "1    3919097    202411        Cash_Back            1                      1   \n",
      "2    3919097    202210        Cash_Back            1                      2   \n",
      "3    3919097    202402        Cash_Back            1                      1   \n",
      "4    3940860    202309        Cash_Back            2                      2   \n",
      "\n",
      "   POINTS_REDEEMED  \n",
      "0              200  \n",
      "1              100  \n",
      "2              200  \n",
      "3              100  \n",
      "4              200  \n"
     ]
    }
   ],
   "source": [
    "# Afficher le répertoire courant\n",
    "print(\"Répertoire courant :\", os.getcwd())\n",
    "\n",
    "# Changer de répertoire (remplacez le chemin par celui de votre dossier)\n",
    "os.chdir(r'C:\\Users\\11348337\\Desktop\\Airmiles')\n",
    "print(\"Nouveau répertoire :\", os.getcwd())\n",
    "\n",
    "# Charger les fichiers\n",
    "MEMBERS_DIM = pd.read_csv(\"MEMBERS_DIM.csv\")\n",
    "TRANSACTION_FACT = pd.read_csv(\"TRANSACTION_FACT.csv\")\n",
    "REWARD_FACT = pd.read_csv(\"REWARD_FACT.csv\")\n",
    "\n",
    "# Vérifier le chargement en affichant les premières lignes\n",
    "print(\"MEMBERS_DIM:\")\n",
    "print(MEMBERS_DIM.head())\n",
    "\n",
    "print(\"\\nTRANSACTION_FACT:\")\n",
    "print(TRANSACTION_FACT.head())\n",
    "\n",
    "print(\"\\nREWARD_FACT:\")\n",
    "print(REWARD_FACT.head())"
   ]
  },
  {
   "cell_type": "code",
   "execution_count": 8,
   "id": "3d774f35-72b2-4515-bef0-fce9214ae276",
   "metadata": {},
   "outputs": [
    {
     "name": "stdout",
     "output_type": "stream",
     "text": [
      "Statistiques descriptives des variables numériques dans transaction_fact :\n",
      "          MEMBER_ID      MONTH_ID  TRANSACTIONS  AMOUNT_SPENT  \\\n",
      "count  5.264811e+07  5.264811e+07  5.264811e+07  5.264811e+07   \n",
      "mean   3.315873e+08  2.023059e+05  4.377825e+00  1.085478e+02   \n",
      "std    4.671691e+08  8.167853e+01  1.004097e+02  7.294551e+02   \n",
      "min    5.900000e+01  2.022010e+05  0.000000e+00 -3.378689e+05   \n",
      "25%    5.545079e+06  2.022090e+05  1.000000e+00  1.034000e+01   \n",
      "50%    1.322814e+07  2.023070e+05  2.000000e+00  2.536000e+01   \n",
      "75%    1.002889e+09  2.024040e+05  4.000000e+00  6.660000e+01   \n",
      "max    1.019999e+09  2.024120e+05  1.701800e+05  6.776738e+05   \n",
      "\n",
      "       BASE_POINTS_EARNED  BONUS_POINTS_EARNED  REWARD_POINTS_EARNED  \\\n",
      "count        5.264811e+07         5.264811e+07          5.252999e+07   \n",
      "mean         1.973932e+01         1.206518e+01          2.265567e+01   \n",
      "std          1.335340e+02         1.678892e+02          1.652203e+02   \n",
      "min         -6.757400e+04        -5.265000e+04         -6.757400e+04   \n",
      "25%          1.000000e+00         0.000000e+00          0.000000e+00   \n",
      "50%          4.000000e+00         0.000000e+00          1.000000e+00   \n",
      "75%          1.000000e+01         3.000000e+00          9.000000e+00   \n",
      "max          1.355340e+05         5.000000e+05          2.850490e+05   \n",
      "\n",
      "       CASH_BACK_POINTS_EARNED  \n",
      "count             5.252999e+07  \n",
      "mean              9.220353e+00  \n",
      "std               1.249587e+02  \n",
      "min              -2.097300e+04  \n",
      "25%               0.000000e+00  \n",
      "50%               0.000000e+00  \n",
      "75%               4.000000e+00  \n",
      "max               3.850000e+05  \n"
     ]
    }
   ],
   "source": [
    "# Sélection des colonnes numériques du DataFrame transaction_fact\n",
    "numeric_cols = TRANSACTION_FACT.select_dtypes(include=['float64', 'int64']).columns\n",
    "print(\"Statistiques descriptives des variables numériques dans transaction_fact :\")\n",
    "print(TRANSACTION_FACT[numeric_cols].describe())"
   ]
  },
  {
   "cell_type": "code",
   "execution_count": 39,
   "id": "ac1d25c6-d67b-41f6-bf40-4cee959fad5e",
   "metadata": {},
   "outputs": [
    {
     "name": "stdout",
     "output_type": "stream",
     "text": [
      "Nombre de valeurs manquantes par colonne dans transaction_fact:\n",
      "MEMBER_ID                        0\n",
      "RETAILER                   5262326\n",
      "MONTH_ID                         0\n",
      "TRANSACTIONS                     0\n",
      "AMOUNT_SPENT                     0\n",
      "BASE_POINTS_EARNED               0\n",
      "BONUS_POINTS_EARNED              0\n",
      "REWARD_POINTS_EARNED        118127\n",
      "CASH_BACK_POINTS_EARNED     118127\n",
      "dtype: int64\n",
      "\n",
      "Pourcentage de valeurs manquantes par colonne:\n",
      "MEMBER_ID                  0.000000\n",
      "RETAILER                   9.995279\n",
      "MONTH_ID                   0.000000\n",
      "TRANSACTIONS               0.000000\n",
      "AMOUNT_SPENT               0.000000\n",
      "BASE_POINTS_EARNED         0.000000\n",
      "BONUS_POINTS_EARNED        0.000000\n",
      "REWARD_POINTS_EARNED       0.224371\n",
      "CASH_BACK_POINTS_EARNED    0.224371\n",
      "dtype: float64\n"
     ]
    }
   ],
   "source": [
    "# Vérifier le nombre de valeurs manquantes par colonne\n",
    "missing_values = TRANSACTION_FACT.isnull().sum()\n",
    "print(\"Nombre de valeurs manquantes par colonne dans transaction_fact:\")\n",
    "print(missing_values)\n",
    "\n",
    "# Calculer le pourcentage de valeurs manquantes par colonne\n",
    "missing_percentage = (TRANSACTION_FACT.isnull().sum() / len(TRANSACTION_FACT)) * 100\n",
    "print(\"\\nPourcentage de valeurs manquantes par colonne:\")\n",
    "print(missing_percentage)\n"
   ]
  },
  {
   "cell_type": "code",
   "execution_count": null,
   "id": "f2ad93c3-bed9-4911-982f-d9ebbb9d30c9",
   "metadata": {},
   "outputs": [],
   "source": [
    "plt.figure(figsize=(8, 4))\n",
    "sns.histplot(TRANSACTION_FACT['TRANSACTIONS'], kde=True, color='skyblue')\n",
    "plt.title(\"Distribution de la variable transactions\")\n",
    "plt.xlabel(\"transactions\")\n",
    "plt.ylabel(\"Fréquence\")\n",
    "plt.show()"
   ]
  },
  {
   "cell_type": "code",
   "execution_count": 41,
   "id": "b16778d2-b0de-407a-af77-a1dc184b7789",
   "metadata": {},
   "outputs": [
    {
     "name": "stdout",
     "output_type": "stream",
     "text": [
      "    MONTH_ID  missing_proportion\n",
      "0   20220100           11.364218\n",
      "1   20220200           10.783359\n",
      "2   20220300           11.363413\n",
      "3   20220400           10.527526\n",
      "4   20220500           10.432712\n",
      "5   20220600           10.013141\n",
      "6   20220700            9.310383\n",
      "7   20220800           11.399091\n",
      "8   20220900           10.909381\n",
      "9   20221000           10.285144\n",
      "10  20221100           11.041101\n",
      "11  20221200           10.226698\n",
      "12  20230100           10.919349\n",
      "13  20230200           10.172592\n",
      "14  20230300           10.445738\n",
      "15  20230400           10.241286\n",
      "16  20230500            9.565207\n",
      "17  20230600            9.290535\n",
      "18  20230700            9.051367\n",
      "19  20230800           10.939451\n",
      "20  20230900           10.406831\n",
      "21  20231000            9.809190\n",
      "22  20231100           10.887403\n",
      "23  20231200            9.796747\n",
      "24  20240100           10.224506\n",
      "25  20240200            9.264537\n",
      "26  20240300            9.665169\n",
      "27  20240400            9.147087\n",
      "28  20240500            8.946191\n",
      "29  20240600            8.148468\n",
      "30  20240700            8.341484\n",
      "31  20240800            9.707703\n",
      "32  20240900            9.654706\n",
      "33  20241000            8.885543\n",
      "34  20241100            9.650916\n",
      "35  20241200            9.359391\n"
     ]
    }
   ],
   "source": [
    "# Calcul de la proportion de valeurs manquantes par MONTH_ID\n",
    "# Pour chaque période, on compte le nombre de valeurs manquantes dans RETAILER\n",
    "missing_by_month = TRANSACTION_FACT.groupby('MONTH_ID')['RETAILER'].apply(lambda x: x.isnull().sum())\n",
    "# On compte également le nombre total de transactions par MONTH_ID\n",
    "total_by_month = TRANSACTION_FACT.groupby('MONTH_ID')['RETAILER'].size()\n",
    "# Calcul de la proportion pour chaque période\n",
    "proportion_by_month = ((missing_by_month / total_by_month).reset_index(name='missing_proportion'))* 100\n",
    "print(proportion_by_month)"
   ]
  },
  {
   "cell_type": "code",
   "execution_count": 11,
   "id": "4d198b1d-ac33-45ed-9a93-15d91e3fee9a",
   "metadata": {},
   "outputs": [],
   "source": [
    "TRANSACTION_FACT['RETAILER'] = TRANSACTION_FACT['RETAILER'].fillna(\"No Retailer\")"
   ]
  },
  {
   "cell_type": "code",
   "execution_count": 45,
   "id": "40f10aa5-b9e9-402a-ab8f-7c4fcb88b6db",
   "metadata": {},
   "outputs": [
    {
     "name": "stdout",
     "output_type": "stream",
     "text": [
      "Nombre de valeurs manquantes par colonne dans transaction_fact:\n",
      "MEMBER_ID                       0\n",
      "RETAILER                        0\n",
      "MONTH_ID                        0\n",
      "TRANSACTIONS                    0\n",
      "AMOUNT_SPENT                    0\n",
      "BASE_POINTS_EARNED              0\n",
      "BONUS_POINTS_EARNED             0\n",
      "REWARD_POINTS_EARNED       118127\n",
      "CASH_BACK_POINTS_EARNED    118127\n",
      "dtype: int64\n",
      "\n",
      "Pourcentage de valeurs manquantes par colonne:\n",
      "MEMBER_ID                  0.000000\n",
      "RETAILER                   0.000000\n",
      "MONTH_ID                   0.000000\n",
      "TRANSACTIONS               0.000000\n",
      "AMOUNT_SPENT               0.000000\n",
      "BASE_POINTS_EARNED         0.000000\n",
      "BONUS_POINTS_EARNED        0.000000\n",
      "REWARD_POINTS_EARNED       0.224371\n",
      "CASH_BACK_POINTS_EARNED    0.224371\n",
      "dtype: float64\n"
     ]
    }
   ],
   "source": [
    "# Vérifier le nombre de valeurs manquantes par colonne\n",
    "missing_values = TRANSACTION_FACT.isnull().sum()\n",
    "print(\"Nombre de valeurs manquantes par colonne dans transaction_fact:\")\n",
    "print(missing_values)\n",
    "\n",
    "# Calculer le pourcentage de valeurs manquantes par colonne\n",
    "missing_percentage = (TRANSACTION_FACT.isnull().sum() / len(TRANSACTION_FACT)) * 100\n",
    "print(\"\\nPourcentage de valeurs manquantes par colonne:\")\n",
    "print(missing_percentage)\n"
   ]
  },
  {
   "cell_type": "code",
   "execution_count": 47,
   "id": "61e8542c-ff62-4e09-b1f6-43d886f42050",
   "metadata": {},
   "outputs": [
    {
     "name": "stdout",
     "output_type": "stream",
     "text": [
      "    MONTH_ID  missing_proportion\n",
      "0   20220100            0.226506\n",
      "1   20220200            0.184993\n",
      "2   20220300            0.187172\n",
      "3   20220400            0.195113\n",
      "4   20220500            0.222670\n",
      "5   20220600            0.208314\n",
      "6   20220700            0.337724\n",
      "7   20220800            0.251085\n",
      "8   20220900            0.214280\n",
      "9   20221000            0.214539\n",
      "10  20221100            0.336334\n",
      "11  20221200            0.376111\n",
      "12  20230100            0.221422\n",
      "13  20230200            0.190040\n",
      "14  20230300            0.198958\n",
      "15  20230400            0.187205\n",
      "16  20230500            0.214553\n",
      "17  20230600            0.212108\n",
      "18  20230700            0.212126\n",
      "19  20230800            0.217575\n",
      "20  20230900            0.218304\n",
      "21  20231000            0.210894\n",
      "22  20231100            0.225897\n",
      "23  20231200            0.211574\n",
      "24  20240100            0.216743\n",
      "25  20240200            0.186581\n",
      "26  20240300            0.209159\n",
      "27  20240400            0.209929\n",
      "28  20240500            0.216435\n",
      "29  20240600            0.220051\n",
      "30  20240700            0.228912\n",
      "31  20240800            0.215740\n",
      "32  20240900            0.233181\n",
      "33  20241000            0.217432\n",
      "34  20241100            0.217390\n",
      "35  20241200            0.200978\n"
     ]
    }
   ],
   "source": [
    "# Calcul de la proportion de valeurs manquantes par MONTH_ID\n",
    "# Pour chaque période, on compte le nombre de valeurs manquantes dans REWARD_POINTS_EARNED\n",
    "missing_by_month = TRANSACTION_FACT.groupby('MONTH_ID')['REWARD_POINTS_EARNED'].apply(lambda x: x.isnull().sum())\n",
    "# On compte également le nombre total de transactions par MONTH_ID\n",
    "total_by_month = TRANSACTION_FACT.groupby('MONTH_ID')['REWARD_POINTS_EARNED'].size()\n",
    "# Calcul de la proportion pour chaque période\n",
    "proportion_by_month = ((missing_by_month / total_by_month).reset_index(name='missing_proportion'))* 100\n",
    "print(proportion_by_month)"
   ]
  },
  {
   "cell_type": "code",
   "execution_count": 49,
   "id": "360bc1e1-ef83-4a47-b87c-f39970d629a6",
   "metadata": {},
   "outputs": [
    {
     "name": "stdout",
     "output_type": "stream",
     "text": [
      "Pourcentage de valeurs manquantes de REWARDS_POINTS_EARNED par détaillant :\n",
      "      RETAILER  missing_percentage\n",
      "4   CATEGORY_5            1.674339\n",
      "7   CATEGORY_8            1.516454\n",
      "8  No Retailer            0.769318\n",
      "5   CATEGORY_6            0.049945\n",
      "0   CATEGORY_1            0.036981\n",
      "6   CATEGORY_7            0.020244\n",
      "2   CATEGORY_3            0.005988\n",
      "3   CATEGORY_4            0.001941\n",
      "1   CATEGORY_2            0.000753\n"
     ]
    }
   ],
   "source": [
    "# Calculer le pourcentage de valeurs manquantes de REWARDS_POINTS_EARNED pour chaque détaillant\n",
    "missing_by_retailer = TRANSACTION_FACT.groupby('RETAILER')['REWARD_POINTS_EARNED']\\\n",
    "    .apply(lambda x: x.isnull().mean() * 100)\\\n",
    "    .reset_index(name='missing_percentage')\n",
    "\n",
    "# Trier les résultats par pourcentage décroissant pour identifier rapidement les détaillants concernés\n",
    "missing_by_retailer = missing_by_retailer.sort_values(by='missing_percentage', ascending=False)\n",
    "\n",
    "print(\"Pourcentage de valeurs manquantes de REWARDS_POINTS_EARNED par détaillant :\")\n",
    "print(missing_by_retailer)\n"
   ]
  },
  {
   "cell_type": "code",
   "execution_count": 51,
   "id": "919479d3-f0c5-43ef-b117-e05cf951e0bb",
   "metadata": {},
   "outputs": [
    {
     "name": "stdout",
     "output_type": "stream",
     "text": [
      "Statistiques descriptives après imputation par la médiane :\n",
      "count    5.264811e+07\n",
      "mean     2.260822e+01\n",
      "std      1.650379e+02\n",
      "min     -6.757400e+04\n",
      "25%      0.000000e+00\n",
      "50%      1.000000e+00\n",
      "75%      9.000000e+00\n",
      "max      2.850490e+05\n",
      "Name: REWARD_POINTS_EARNED, dtype: float64\n",
      "\n",
      "Statistiques descriptives après imputation par la moyenne :\n",
      "count    5.264811e+07\n",
      "mean     2.263929e+01\n",
      "std      1.650356e+02\n",
      "min     -6.757400e+04\n",
      "25%      0.000000e+00\n",
      "50%      2.000000e+00\n",
      "75%      9.000000e+00\n",
      "max      2.850490e+05\n",
      "Name: REWARD_POINTS_EARNED, dtype: float64\n"
     ]
    }
   ],
   "source": [
    "# Créer des copies du DataFrame original pour chaque méthode d'imputation\n",
    "df_median = TRANSACTION_FACT.copy()\n",
    "df_mean   = TRANSACTION_FACT.copy()\n",
    "\n",
    "# Imputation par la médiane : pour chaque RETAILER, on remplace les valeurs manquantes par la médiane du groupe\n",
    "df_median['REWARD_POINTS_EARNED'] = df_median.groupby('RETAILER')['REWARD_POINTS_EARNED'] \\\n",
    "    .transform(lambda x: x.fillna(x.median()))\n",
    "\n",
    "# Imputation par la moyenne : pour chaque RETAILER, on remplace les valeurs manquantes par la moyenne du groupe\n",
    "df_mean['REWARD_POINTS_EARNED'] = df_mean.groupby('RETAILER')['REWARD_POINTS_EARNED'] \\\n",
    "    .transform(lambda x: x.fillna(x.mean()))\n",
    "\n",
    "# Comparaison des statistiques descriptives\n",
    "print(\"Statistiques descriptives après imputation par la médiane :\")\n",
    "print(df_median['REWARD_POINTS_EARNED'].describe())\n",
    "\n",
    "print(\"\\nStatistiques descriptives après imputation par la moyenne :\")\n",
    "print(df_mean['REWARD_POINTS_EARNED'].describe())\n",
    "\n"
   ]
  },
  {
   "cell_type": "code",
   "execution_count": 13,
   "id": "1b679848-cc92-4383-a764-2064d49127a3",
   "metadata": {},
   "outputs": [],
   "source": [
    "# Imputation par la médiane des REWARDS_POINTS_EARNED pour chaque RETAILER\n",
    "TRANSACTION_FACT['REWARD_POINTS_EARNED'] = TRANSACTION_FACT.groupby('RETAILER')['REWARD_POINTS_EARNED'] \\\n",
    "    .transform(lambda x: x.fillna(x.median()))\n"
   ]
  },
  {
   "cell_type": "code",
   "execution_count": 55,
   "id": "55a31b9b-a0d8-4600-a922-164db45e5b08",
   "metadata": {},
   "outputs": [
    {
     "name": "stdout",
     "output_type": "stream",
     "text": [
      "Pourcentage de valeurs manquantes de REWARDS_POINTS_EARNED par détaillant :\n",
      "      RETAILER  missing_percentage\n",
      "0   CATEGORY_1                 0.0\n",
      "1   CATEGORY_2                 0.0\n",
      "2   CATEGORY_3                 0.0\n",
      "3   CATEGORY_4                 0.0\n",
      "4   CATEGORY_5                 0.0\n",
      "5   CATEGORY_6                 0.0\n",
      "6   CATEGORY_7                 0.0\n",
      "7   CATEGORY_8                 0.0\n",
      "8  No Retailer                 0.0\n"
     ]
    }
   ],
   "source": [
    "# Calculer le pourcentage de valeurs manquantes de REWARDS_POINTS_EARNED pour chaque détaillant\n",
    "missing_by_retailer = TRANSACTION_FACT.groupby('RETAILER')['REWARD_POINTS_EARNED']\\\n",
    "    .apply(lambda x: x.isnull().mean() * 100)\\\n",
    "    .reset_index(name='missing_percentage')\n",
    "\n",
    "# Trier les résultats par pourcentage décroissant pour identifier rapidement les détaillants concernés\n",
    "missing_by_retailer = missing_by_retailer.sort_values(by='missing_percentage', ascending=False)\n",
    "\n",
    "print(\"Pourcentage de valeurs manquantes de REWARDS_POINTS_EARNED par détaillant :\")\n",
    "print(missing_by_retailer)"
   ]
  },
  {
   "cell_type": "code",
   "execution_count": 25,
   "id": "5b214219-1792-4412-846b-cb07c26b3576",
   "metadata": {},
   "outputs": [
    {
     "name": "stdout",
     "output_type": "stream",
     "text": [
      "      RETAILER  Transaction_Percentage\n",
      "0   CATEGORY_2               33.042523\n",
      "1   CATEGORY_3               17.318482\n",
      "2   CATEGORY_1               12.223935\n",
      "3  No Retailer                9.995279\n",
      "4   CATEGORY_4                9.491394\n",
      "5   CATEGORY_6                9.233733\n",
      "6   CATEGORY_5                7.626932\n",
      "7   CATEGORY_8                0.598584\n",
      "8   CATEGORY_7                0.469137\n"
     ]
    }
   ],
   "source": [
    "# Calculer le nombre de transactions par retailer\n",
    "transaction_count = TRANSACTION_FACT['RETAILER'].value_counts()\n",
    "\n",
    "# Calculer le pourcentage de transactions pour chaque retailer\n",
    "transaction_percentage = (transaction_count / len(TRANSACTION_FACT)) * 100\n",
    "\n",
    "# Convertir en DataFrame pour faciliter l'affichage\n",
    "retailer_percentage_df = transaction_percentage.reset_index()\n",
    "retailer_percentage_df.columns = ['RETAILER', 'Transaction_Percentage']\n",
    "\n",
    "print(retailer_percentage_df)"
   ]
  },
  {
   "cell_type": "code",
   "execution_count": 57,
   "id": "3d36febc-e26e-4e66-98f6-02a104f16a13",
   "metadata": {},
   "outputs": [
    {
     "name": "stdout",
     "output_type": "stream",
     "text": [
      "    MONTH_ID  missing_proportion\n",
      "0   20220100            0.226506\n",
      "1   20220200            0.184993\n",
      "2   20220300            0.187172\n",
      "3   20220400            0.195113\n",
      "4   20220500            0.222670\n",
      "5   20220600            0.208314\n",
      "6   20220700            0.337724\n",
      "7   20220800            0.251085\n",
      "8   20220900            0.214280\n",
      "9   20221000            0.214539\n",
      "10  20221100            0.336334\n",
      "11  20221200            0.376111\n",
      "12  20230100            0.221422\n",
      "13  20230200            0.190040\n",
      "14  20230300            0.198958\n",
      "15  20230400            0.187205\n",
      "16  20230500            0.214553\n",
      "17  20230600            0.212108\n",
      "18  20230700            0.212126\n",
      "19  20230800            0.217575\n",
      "20  20230900            0.218304\n",
      "21  20231000            0.210894\n",
      "22  20231100            0.225897\n",
      "23  20231200            0.211574\n",
      "24  20240100            0.216743\n",
      "25  20240200            0.186581\n",
      "26  20240300            0.209159\n",
      "27  20240400            0.209929\n",
      "28  20240500            0.216435\n",
      "29  20240600            0.220051\n",
      "30  20240700            0.228912\n",
      "31  20240800            0.215740\n",
      "32  20240900            0.233181\n",
      "33  20241000            0.217432\n",
      "34  20241100            0.217390\n",
      "35  20241200            0.200978\n"
     ]
    }
   ],
   "source": [
    "# Calcul de la proportion de valeurs manquantes par MONTH_ID\n",
    "# Pour chaque période, on compte le nombre de valeurs manquantes dans REWARD_POINTS_EARNED\n",
    "missing_by_month = TRANSACTION_FACT.groupby('MONTH_ID')['CASH_BACK_POINTS_EARNED'].apply(lambda x: x.isnull().sum())\n",
    "# On compte également le nombre total de transactions par MONTH_ID\n",
    "total_by_month = TRANSACTION_FACT.groupby('MONTH_ID')['CASH_BACK_POINTS_EARNED'].size()\n",
    "# Calcul de la proportion pour chaque période\n",
    "proportion_by_month = ((missing_by_month / total_by_month).reset_index(name='missing_proportion'))* 100\n",
    "print(proportion_by_month)"
   ]
  },
  {
   "cell_type": "code",
   "execution_count": 14,
   "id": "a0371eda-287e-4b4e-93bc-7d2ae4f6afee",
   "metadata": {},
   "outputs": [],
   "source": [
    "# Imputation par la médiane des CASH_BACK_POINTS_EARNED pour chaque RETAILER\n",
    "TRANSACTION_FACT['CASH_BACK_POINTS_EARNED'] = TRANSACTION_FACT.groupby('RETAILER')['CASH_BACK_POINTS_EARNED'] \\\n",
    "    .transform(lambda x: x.fillna(x.median()))"
   ]
  },
  {
   "cell_type": "code",
   "execution_count": 12,
   "id": "311ffacd-9e8e-4133-80ac-a1899911fa5e",
   "metadata": {},
   "outputs": [
    {
     "name": "stdout",
     "output_type": "stream",
     "text": [
      "Pourcentage de valeurs manquantes de REWARDS_POINTS_EARNED par détaillant :\n",
      "      RETAILER  missing_percentage\n",
      "0   CATEGORY_1                 0.0\n",
      "1   CATEGORY_2                 0.0\n",
      "2   CATEGORY_3                 0.0\n",
      "3   CATEGORY_4                 0.0\n",
      "4   CATEGORY_5                 0.0\n",
      "5   CATEGORY_6                 0.0\n",
      "6   CATEGORY_7                 0.0\n",
      "7   CATEGORY_8                 0.0\n",
      "8  No Retailer                 0.0\n"
     ]
    }
   ],
   "source": [
    "# Calculer le pourcentage de valeurs manquantes de CASH_BACK_POINTS_EARNED pour chaque détaillant\n",
    "missing_by_retailer = TRANSACTION_FACT.groupby('RETAILER')['CASH_BACK_POINTS_EARNED']\\\n",
    "    .apply(lambda x: x.isnull().mean() * 100)\\\n",
    "    .reset_index(name='missing_percentage')\n",
    "\n",
    "# Trier les résultats par pourcentage décroissant pour identifier rapidement les détaillants concernés\n",
    "missing_by_retailer = missing_by_retailer.sort_values(by='missing_percentage', ascending=False)\n",
    "\n",
    "print(\"Pourcentage de valeurs manquantes de REWARDS_POINTS_EARNED par détaillant :\")\n",
    "print(missing_by_retailer)"
   ]
  },
  {
   "cell_type": "code",
   "execution_count": 16,
   "id": "86b475de-2574-4678-a4e5-be7c98d51780",
   "metadata": {},
   "outputs": [
    {
     "name": "stdout",
     "output_type": "stream",
     "text": [
      "Nombre de valeurs manquantes par colonne dans transaction_fact:\n",
      "MEMBER_ID                  0\n",
      "RETAILER                   0\n",
      "MONTH_ID                   0\n",
      "TRANSACTIONS               0\n",
      "AMOUNT_SPENT               0\n",
      "BASE_POINTS_EARNED         0\n",
      "BONUS_POINTS_EARNED        0\n",
      "REWARD_POINTS_EARNED       0\n",
      "CASH_BACK_POINTS_EARNED    0\n",
      "dtype: int64\n",
      "\n",
      "Pourcentage de valeurs manquantes par colonne:\n",
      "MEMBER_ID                  0.0\n",
      "RETAILER                   0.0\n",
      "MONTH_ID                   0.0\n",
      "TRANSACTIONS               0.0\n",
      "AMOUNT_SPENT               0.0\n",
      "BASE_POINTS_EARNED         0.0\n",
      "BONUS_POINTS_EARNED        0.0\n",
      "REWARD_POINTS_EARNED       0.0\n",
      "CASH_BACK_POINTS_EARNED    0.0\n",
      "dtype: float64\n"
     ]
    }
   ],
   "source": [
    "# Vérifier le nombre de valeurs manquantes par colonne\n",
    "missing_values = TRANSACTION_FACT.isnull().sum()\n",
    "print(\"Nombre de valeurs manquantes par colonne dans transaction_fact:\")\n",
    "print(missing_values)\n",
    "\n",
    "# Calculer le pourcentage de valeurs manquantes par colonne\n",
    "missing_percentage = (TRANSACTION_FACT.isnull().sum() / len(TRANSACTION_FACT)) * 100\n",
    "print(\"\\nPourcentage de valeurs manquantes par colonne:\")\n",
    "print(missing_percentage)\n"
   ]
  },
  {
   "cell_type": "code",
   "execution_count": 19,
   "id": "01d78529-b05f-4cba-b2bd-4827f243b6d7",
   "metadata": {},
   "outputs": [
    {
     "name": "stdout",
     "output_type": "stream",
     "text": [
      "DataFrame avec uniquement les colonnes nécessaires pour l'analyse :\n",
      "   MEMBER_ID    RETAILER  TRANSACTIONS  AMOUNT_SPENT  BASE_POINTS_EARNED  \\\n",
      "0      19683  CATEGORY_3             2         19.95                   2   \n",
      "1      19683  CATEGORY_3             2          8.62                   1   \n",
      "2      19683  CATEGORY_4             1         72.65                  14   \n",
      "3      19683  CATEGORY_2             1          9.11                   1   \n",
      "4      19683  CATEGORY_2             1          8.63                   1   \n",
      "\n",
      "   BONUS_POINTS_EARNED  REWARD_POINTS_EARNED  CASH_BACK_POINTS_EARNED  \n",
      "0                    0                   0.0                      2.0  \n",
      "1                    9                   0.0                     10.0  \n",
      "2                    0                   0.0                     14.0  \n",
      "3                    0                   0.0                      1.0  \n",
      "4                    0                   0.0                      1.0  \n"
     ]
    }
   ],
   "source": [
    "# Imaginons que votre DataFrame s'appelle TRANSACTION_FACT\n",
    "# Sélectionner les colonnes souhaitées\n",
    "df_transaction_extracted = TRANSACTION_FACT[[\n",
    "    'MEMBER_ID',\n",
    "    'RETAILER',\n",
    "    'TRANSACTIONS',\n",
    "    'AMOUNT_SPENT',\n",
    "    'BASE_POINTS_EARNED',\n",
    "    'BONUS_POINTS_EARNED',\n",
    "    'REWARD_POINTS_EARNED',\n",
    "    'CASH_BACK_POINTS_EARNED',\n",
    "]]\n",
    "\n",
    "# Afficher un aperçu des données extraites\n",
    "print(\"DataFrame avec uniquement les colonnes nécessaires pour l'analyse :\")\n",
    "print(df_transaction_extracted.head())"
   ]
  },
  {
   "cell_type": "code",
   "execution_count": null,
   "id": "4a00303f-0d2c-44a6-ad07-31582c260c1a",
   "metadata": {},
   "outputs": [],
   "source": []
  },
  {
   "cell_type": "code",
   "execution_count": null,
   "id": "3813e958-b2f7-4430-a176-5a08b56db115",
   "metadata": {},
   "outputs": [],
   "source": []
  },
  {
   "cell_type": "code",
   "execution_count": 17,
   "id": "764763b9-acb1-4e62-a6e5-5ee096d8c50d",
   "metadata": {},
   "outputs": [
    {
     "name": "stdout",
     "output_type": "stream",
     "text": [
      "Statistiques descriptives des variables numériques dans MEMBERS_DIM :\n",
      "          MEMBER_ID           AGE  TENURE_MONTHS  CASH_BACK_POINTS_BALANCE  \\\n",
      "count  1.254299e+06  1.060394e+06   1.254299e+06              1.254299e+06   \n",
      "mean   4.746504e+08  5.539343e+01   2.215653e+02              1.008349e+02   \n",
      "std    4.987444e+08  2.338556e+01   1.058801e+02              1.007268e+03   \n",
      "min    5.900000e+01 -7.099000e+03   0.000000e+00             -6.448000e+04   \n",
      "25%    8.399090e+06  4.100000e+01   1.170000e+02              0.000000e+00   \n",
      "50%    1.774989e+07  5.500000e+01   2.250000e+02              0.000000e+00   \n",
      "75%    1.009366e+09  6.800000e+01   3.180000e+02              4.400000e+01   \n",
      "max    1.019999e+09  2.023000e+03   3.960000e+02              4.671960e+05   \n",
      "\n",
      "       REWARD_POINTS_BALANCE  \n",
      "count           1.254299e+06  \n",
      "mean            1.458798e+03  \n",
      "std             5.185960e+03  \n",
      "min            -1.584230e+05  \n",
      "25%             0.000000e+00  \n",
      "50%             3.500000e+01  \n",
      "75%             1.135000e+03  \n",
      "max             1.201192e+06  \n"
     ]
    }
   ],
   "source": [
    "# Sélection des colonnes numériques du DataFrame MEMBERS_DIM\n",
    "numeric_cols = MEMBERS_DIM.select_dtypes(include=['float64', 'int64']).columns\n",
    "print(\"Statistiques descriptives des variables numériques dans MEMBERS_DIM :\")\n",
    "print(MEMBERS_DIM[numeric_cols].describe())"
   ]
  },
  {
   "cell_type": "code",
   "execution_count": 69,
   "id": "173a03d4-0b1e-42f8-91d0-dcd768e0f0d3",
   "metadata": {},
   "outputs": [
    {
     "name": "stdout",
     "output_type": "stream",
     "text": [
      "Nombre de valeurs manquantes par colonne dans MEMBERS_DIM:\n",
      "MEMBER_ID                        0\n",
      "AGE                         193905\n",
      "GENDER                      379617\n",
      "LANGUAGE                       388\n",
      "TIER                             0\n",
      "SMALL_BUSINESS_FLAG              0\n",
      "TENURE_MONTHS                    0\n",
      "PROV                         81117\n",
      "CASH_BACK_POINTS_BALANCE         0\n",
      "REWARD_POINTS_BALANCE            0\n",
      "EMAILABLE_FLAG              273105\n",
      "MAILABLE_FLAG                    0\n",
      "dtype: int64\n",
      "\n",
      "Pourcentage de valeurs manquantes par colonne:\n",
      "MEMBER_ID                    0.000000\n",
      "AGE                         15.459233\n",
      "GENDER                      30.265272\n",
      "LANGUAGE                     0.030934\n",
      "TIER                         0.000000\n",
      "SMALL_BUSINESS_FLAG          0.000000\n",
      "TENURE_MONTHS                0.000000\n",
      "PROV                         6.467118\n",
      "CASH_BACK_POINTS_BALANCE     0.000000\n",
      "REWARD_POINTS_BALANCE        0.000000\n",
      "EMAILABLE_FLAG              21.773517\n",
      "MAILABLE_FLAG                0.000000\n",
      "dtype: float64\n"
     ]
    }
   ],
   "source": [
    "# Vérifier le nombre de valeurs manquantes par colonne\n",
    "missing_values = MEMBERS_DIM.isnull().sum()\n",
    "print(\"Nombre de valeurs manquantes par colonne dans MEMBERS_DIM:\")\n",
    "print(missing_values)\n",
    "\n",
    "# Calculer le pourcentage de valeurs manquantes par colonne\n",
    "missing_percentage = (MEMBERS_DIM.isnull().sum() / len(MEMBERS_DIM)) * 100\n",
    "print(\"\\nPourcentage de valeurs manquantes par colonne:\")\n",
    "print(missing_percentage)"
   ]
  },
  {
   "cell_type": "code",
   "execution_count": 67,
   "id": "d6546037-8bac-4af3-bff8-6ec2ab1fdce9",
   "metadata": {},
   "outputs": [
    {
     "name": "stdout",
     "output_type": "stream",
     "text": [
      "MEMBERS_DIM:\n",
      "    MEMBER_ID   AGE GENDER LANGUAGE       TIER SMALL_BUSINESS_FLAG  \\\n",
      "0     1057621  80.0    NaN        E      Basic                   N   \n",
      "1     1218019  50.0      F        E  Next Best                   N   \n",
      "2    12125937  59.0      M        E      Basic                   N   \n",
      "3    16489011  56.0      F        E  Next Best                   N   \n",
      "4  1003721328  61.0    NaN        E      Basic                   N   \n",
      "\n",
      "   TENURE_MONTHS PROV  CASH_BACK_POINTS_BALANCE  REWARD_POINTS_BALANCE  \\\n",
      "0            381   ON                        81                     13   \n",
      "1            371   BC                         0                   3963   \n",
      "2            282   ON                        41                    928   \n",
      "3            243   ON                        35                   1677   \n",
      "4            165   AB                         0                   1570   \n",
      "\n",
      "  EMAILABLE_FLAG MAILABLE_FLAG  \n",
      "0              Y             Y  \n",
      "1              N             Y  \n",
      "2              N             Y  \n",
      "3              Y             Y  \n",
      "4              Y             Y  \n"
     ]
    }
   ],
   "source": [
    "# Vérifier le chargement en affichant les premières lignes\n",
    "print(\"MEMBERS_DIM:\")\n",
    "print(MEMBERS_DIM.head())"
   ]
  },
  {
   "cell_type": "code",
   "execution_count": 21,
   "id": "18c96fd6-769c-4cca-8134-45de848a2f70",
   "metadata": {},
   "outputs": [
    {
     "name": "stdout",
     "output_type": "stream",
     "text": [
      "DataFrame avec uniquement les colonnes nécessaires pour l'analyse :\n",
      "    MEMBER_ID  CASH_BACK_POINTS_BALANCE  REWARD_POINTS_BALANCE\n",
      "0     1057621                        81                     13\n",
      "1     1218019                         0                   3963\n",
      "2    12125937                        41                    928\n",
      "3    16489011                        35                   1677\n",
      "4  1003721328                         0                   1570\n"
     ]
    }
   ],
   "source": [
    "# Imaginons que votre DataFrame s'appelle members_dim\n",
    "# Sélectionner les trois colonnes souhaitées\n",
    "df_members_extracted = MEMBERS_DIM[['MEMBER_ID', 'CASH_BACK_POINTS_BALANCE', 'REWARD_POINTS_BALANCE']]\n",
    "\n",
    "# Afficher un aperçu des données extraites\n",
    "print(\"DataFrame avec uniquement les colonnes nécessaires pour l'analyse :\")\n",
    "print(df_members_extracted.head())"
   ]
  },
  {
   "cell_type": "code",
   "execution_count": null,
   "id": "08455e9f-fee3-44e9-bbbd-3c07c84b5cf1",
   "metadata": {},
   "outputs": [],
   "source": []
  },
  {
   "cell_type": "code",
   "execution_count": null,
   "id": "83c35a39-ca71-47ab-b3ed-388a0feef4f1",
   "metadata": {},
   "outputs": [],
   "source": []
  },
  {
   "cell_type": "code",
   "execution_count": 73,
   "id": "4bce9c7c-2618-4ea0-bfc7-8c1436458b25",
   "metadata": {},
   "outputs": [
    {
     "name": "stdout",
     "output_type": "stream",
     "text": [
      "Statistiques descriptives des variables numériques dans REWARD_FACT :\n",
      "          MEMBER_ID      MONTH_ID   REDEMPTIONS  NUMBER_ITEMS_REDEEMED  \\\n",
      "count  2.221424e+06  2.221424e+06  2.221424e+06           2.221424e+06   \n",
      "mean   3.142759e+08  2.023094e+05  1.214891e+00           2.104145e+00   \n",
      "std    4.601991e+08  8.129172e+01  6.820943e-01           3.199830e+00   \n",
      "min    5.900000e+01  2.022010e+05  1.000000e+00           0.000000e+00   \n",
      "25%    5.930436e+06  2.022100e+05  1.000000e+00           1.000000e+00   \n",
      "50%    1.272092e+07  2.023070e+05  1.000000e+00           1.000000e+00   \n",
      "75%    1.002599e+09  2.024040e+05  1.000000e+00           2.000000e+00   \n",
      "max    1.016553e+09  2.024120e+05  6.200000e+01           3.180000e+02   \n",
      "\n",
      "       POINTS_REDEEMED  \n",
      "count     2.221424e+06  \n",
      "mean      3.239224e+02  \n",
      "std       1.027995e+03  \n",
      "min       0.000000e+00  \n",
      "25%       1.000000e+02  \n",
      "50%       1.000000e+02  \n",
      "75%       2.000000e+02  \n",
      "max       1.784400e+05  \n"
     ]
    }
   ],
   "source": [
    "# Sélection des colonnes numériques du DataFrame REWARD_FACT\n",
    "numeric_cols = REWARD_FACT.select_dtypes(include=['float64', 'int64']).columns\n",
    "print(\"Statistiques descriptives des variables numériques dans REWARD_FACT :\")\n",
    "print(REWARD_FACT[numeric_cols].describe())"
   ]
  },
  {
   "cell_type": "code",
   "execution_count": 75,
   "id": "50f9db3f-b5f0-4241-991a-4f2f24af1d28",
   "metadata": {},
   "outputs": [
    {
     "name": "stdout",
     "output_type": "stream",
     "text": [
      "REWARD_FACT:\n",
      "   MEMBER_ID  MONTH_ID REWARDS_CATEGORY  REDEMPTIONS  NUMBER_ITEMS_REDEEMED  \\\n",
      "0    3919097    202305        Cash_Back            1                      2   \n",
      "1    3919097    202411        Cash_Back            1                      1   \n",
      "2    3919097    202210        Cash_Back            1                      2   \n",
      "3    3919097    202402        Cash_Back            1                      1   \n",
      "4    3940860    202309        Cash_Back            2                      2   \n",
      "\n",
      "   POINTS_REDEEMED  \n",
      "0              200  \n",
      "1              100  \n",
      "2              200  \n",
      "3              100  \n",
      "4              200  \n"
     ]
    }
   ],
   "source": [
    "# Vérifier le chargement en affichant les premières lignes\n",
    "print(\"REWARD_FACT:\")\n",
    "print(REWARD_FACT.head())"
   ]
  },
  {
   "cell_type": "code",
   "execution_count": 21,
   "id": "1f21d4fe-5353-4f78-866c-505d7d22334f",
   "metadata": {},
   "outputs": [
    {
     "name": "stdout",
     "output_type": "stream",
     "text": [
      "Nombre de valeurs manquantes par colonne dans REWARD_FACT:\n",
      "MEMBER_ID                0\n",
      "MONTH_ID                 0\n",
      "REWARDS_CATEGORY         0\n",
      "REDEMPTIONS              0\n",
      "NUMBER_ITEMS_REDEEMED    0\n",
      "POINTS_REDEEMED          0\n",
      "dtype: int64\n",
      "\n",
      "Pourcentage de valeurs manquantes par colonne:\n",
      "MEMBER_ID                0.0\n",
      "MONTH_ID                 0.0\n",
      "REWARDS_CATEGORY         0.0\n",
      "REDEMPTIONS              0.0\n",
      "NUMBER_ITEMS_REDEEMED    0.0\n",
      "POINTS_REDEEMED          0.0\n",
      "dtype: float64\n"
     ]
    }
   ],
   "source": [
    "# Vérifier le nombre de valeurs manquantes par colonne\n",
    "missing_values = REWARD_FACT.isnull().sum()\n",
    "print(\"Nombre de valeurs manquantes par colonne dans REWARD_FACT:\")\n",
    "print(missing_values)\n",
    "\n",
    "# Calculer le pourcentage de valeurs manquantes par colonne\n",
    "missing_percentage = (REWARD_FACT.isnull().sum() / len(REWARD_FACT)) * 100\n",
    "print(\"\\nPourcentage de valeurs manquantes par colonne:\")\n",
    "print(missing_percentage)"
   ]
  },
  {
   "cell_type": "code",
   "execution_count": 23,
   "id": "7fe9b7f8-0b89-4388-835f-7c6b77516c5d",
   "metadata": {},
   "outputs": [
    {
     "name": "stdout",
     "output_type": "stream",
     "text": [
      "DataFrame avec uniquement les colonnes nécessaires pour l'analyse :\n",
      "   MEMBER_ID REWARDS_CATEGORY  REDEMPTIONS  NUMBER_ITEMS_REDEEMED  \\\n",
      "0    3919097        Cash_Back            1                      2   \n",
      "1    3919097        Cash_Back            1                      1   \n",
      "2    3919097        Cash_Back            1                      2   \n",
      "3    3919097        Cash_Back            1                      1   \n",
      "4    3940860        Cash_Back            2                      2   \n",
      "\n",
      "   POINTS_REDEEMED  \n",
      "0              200  \n",
      "1              100  \n",
      "2              200  \n",
      "3              100  \n",
      "4              200  \n"
     ]
    }
   ],
   "source": [
    "# Imaginons que votre DataFrame s'appelle reward_fact\n",
    "# Sélectionner les colonnes souhaitées\n",
    "df_reward_extracted = REWARD_FACT[[\n",
    "    'MEMBER_ID',\n",
    "    'REWARDS_CATEGORY',\n",
    "    'REDEMPTIONS',\n",
    "    'NUMBER_ITEMS_REDEEMED',\n",
    "    'POINTS_REDEEMED'\n",
    "]]\n",
    "\n",
    "# Afficher un aperçu des données extraites\n",
    "print(\"DataFrame avec uniquement les colonnes nécessaires pour l'analyse :\")\n",
    "print(df_reward_extracted.head())"
   ]
  },
  {
   "cell_type": "code",
   "execution_count": null,
   "id": "6e563f4d-e647-4acb-8867-8ea51a2ae99e",
   "metadata": {},
   "outputs": [],
   "source": []
  },
  {
   "cell_type": "code",
   "execution_count": null,
   "id": "3535e042-90ef-44e7-b4f5-e04e6a8c23bb",
   "metadata": {},
   "outputs": [],
   "source": []
  },
  {
   "cell_type": "code",
   "execution_count": null,
   "id": "ff26149d-cc0e-4b23-92f2-c974615d94f5",
   "metadata": {},
   "outputs": [],
   "source": []
  },
  {
   "cell_type": "code",
   "execution_count": null,
   "id": "eb5dccfd-e879-4619-bda8-c36477de76db",
   "metadata": {},
   "outputs": [],
   "source": [
    "# Conversion de pandas DataFrames en Dask DataFrames (avec un certain nombre de partitions)\n",
    "dd_transaction = dd.from_pandas(df_transaction_extracted, npartitions=10)\n",
    "dd_members     = dd.from_pandas(df_members_extracted, npartitions=10)\n",
    "dd_reward      = dd.from_pandas(df_reward_extracted, npartitions=10)\n",
    "\n",
    "# Jointure entre transaction et members\n",
    "dd_merged = dd.merge(dd_transaction, dd_members, on='MEMBER_ID', how='inner')\n",
    "\n",
    "# Jointure avec reward\n",
    "dd_merged = dd.merge(dd_merged, dd_reward, on='MEMBER_ID', how='inner')\n",
    "\n",
    "# Pour obtenir un pandas DataFrame en mémoire (si taille raisonnable)\n",
    "df_merged = dd_merged.compute()\n",
    "\n",
    "print(df_merged.shape)\n",
    "print(df_merged.head())"
   ]
  },
  {
   "cell_type": "code",
   "execution_count": null,
   "id": "832d41bd-e776-40ae-8f33-9a6607940580",
   "metadata": {},
   "outputs": [
    {
     "data": {
      "application/vnd.jupyter.widget-view+json": {
       "model_id": "ddd75599237444e19d05cec532113429",
       "version_major": 2,
       "version_minor": 0
      },
      "text/plain": [
       "FloatProgress(value=0.0, layout=Layout(width='auto'), style=ProgressStyle(bar_color='black'))"
      ]
     },
     "metadata": {},
     "output_type": "display_data"
    }
   ],
   "source": [
    "# Inscrivez vos DataFrames dans DuckDB comme tables temporaires\n",
    "duckdb.register(\"df_trans\", df_transaction_extracted)\n",
    "duckdb.register(\"df_members\", df_members_extracted)\n",
    "duckdb.register(\"df_reward\", df_reward_extracted)\n",
    "\n",
    "# Requête SQL pour réaliser la jointure sur MEMBER_ID\n",
    "query = \"\"\"\n",
    "SELECT t.*, m.*, r.*\n",
    "FROM df_trans t\n",
    "INNER JOIN df_members m ON t.MEMBER_ID = m.MEMBER_ID\n",
    "INNER JOIN df_reward r ON t.MEMBER_ID = r.MEMBER_ID\n",
    "\"\"\"\n",
    "\n",
    "# Exécuter la requête et récupérer le résultat sous forme de DataFrame pandas\n",
    "df_merged = duckdb.query(query).to_df()\n",
    "\n",
    "# Affichage de quelques informations sur le DataFrame fusionné\n",
    "print(\"Dimensions de la table fusionnée :\", df_merged.shape)\n",
    "print(df_merged.head())"
   ]
  },
  {
   "cell_type": "code",
   "execution_count": null,
   "id": "e88deee9-4baa-45c7-87f4-e4a0eb23381c",
   "metadata": {},
   "outputs": [],
   "source": []
  }
 ],
 "metadata": {
  "kernelspec": {
   "display_name": "Python [conda env:base] *",
   "language": "python",
   "name": "conda-base-py"
  },
  "language_info": {
   "codemirror_mode": {
    "name": "ipython",
    "version": 3
   },
   "file_extension": ".py",
   "mimetype": "text/x-python",
   "name": "python",
   "nbconvert_exporter": "python",
   "pygments_lexer": "ipython3",
   "version": "3.12.7"
  }
 },
 "nbformat": 4,
 "nbformat_minor": 5
}
